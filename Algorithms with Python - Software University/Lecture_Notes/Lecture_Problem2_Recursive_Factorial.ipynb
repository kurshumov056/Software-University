{
 "cells": [
  {
   "cell_type": "code",
   "execution_count": 1,
   "metadata": {},
   "outputs": [
    {
     "name": "stdout",
     "output_type": "stream",
     "text": [
      "User InputL  5\n",
      "Result:  120\n"
     ]
    }
   ],
   "source": [
    "'''  \n",
    "                    2. Recursive Factorial\n",
    "\n",
    "                    \n",
    "Write a program that calculates the recursively factorial of a given number.\n",
    "NOTE: In practice, this recursion should not be used here (instead use an iterative solution).\n",
    "\n",
    "Examples\n",
    "\n",
    "Input               Output\n",
    "5                   120\n",
    "\n",
    "Input               Output\n",
    "10                  3628800\n",
    "\n",
    "\n",
    "Hints\n",
    "\n",
    "Write a recursive method. It will take as arguments an integer number.\n",
    "\n",
    "    · The method should return the current element * the result of calculating the factorial of \n",
    "        current element - 1 (obtained by recursively calling it).\n",
    "        \n",
    "    · The recursion should stop when the last element is reached. \n",
    "\n",
    "'''\n",
    "\n",
    "\n",
    "def calc_fact(n):\n",
    "    if n == 0:\n",
    "        return 1\n",
    "    return n * calc_fact(n - 1)\n",
    "\n",
    "\n",
    "n = int(input())\n",
    "print('User InputL ', n)\n",
    "print('Result: ', calc_fact(n))"
   ]
  },
  {
   "cell_type": "code",
   "execution_count": null,
   "metadata": {},
   "outputs": [],
   "source": []
  }
 ],
 "metadata": {
  "interpreter": {
   "hash": "72f905a1bbd07dc295e964c0246fea79da9263e854d6ece130d260b8e4a73f49"
  },
  "kernelspec": {
   "display_name": "Python 3.10.1 64-bit",
   "language": "python",
   "name": "python3"
  },
  "language_info": {
   "codemirror_mode": {
    "name": "ipython",
    "version": 3
   },
   "file_extension": ".py",
   "mimetype": "text/x-python",
   "name": "python",
   "nbconvert_exporter": "python",
   "pygments_lexer": "ipython3",
   "version": "3.10.1"
  },
  "orig_nbformat": 4
 },
 "nbformat": 4,
 "nbformat_minor": 2
}
