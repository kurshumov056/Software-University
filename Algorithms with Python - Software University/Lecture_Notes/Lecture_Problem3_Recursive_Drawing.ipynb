{
 "cells": [
  {
   "cell_type": "code",
   "execution_count": 3,
   "metadata": {},
   "outputs": [
    {
     "name": "stdout",
     "output_type": "stream",
     "text": [
      "*****\n",
      "****\n",
      "***\n",
      "**\n",
      "*\n",
      "#\n",
      "##\n",
      "###\n",
      "####\n",
      "#####\n"
     ]
    }
   ],
   "source": [
    "'''  \n",
    "   3. Recursive Drawing\n",
    "\n",
    "Write a program that draws the figure below depending on n.\n",
    "\n",
    "Examples\n",
    "\n",
    "Input           Output\n",
    "\n",
    "2               ** \n",
    "                * \n",
    "                # \n",
    "                ##\n",
    "\n",
    "5               ***** \n",
    "                **** \n",
    "                *** \n",
    "                ** \n",
    "                * \n",
    "                # \n",
    "                ## \n",
    "                ### \n",
    "                #### \n",
    "                #####\n",
    "\n",
    "Hints\n",
    "\n",
    "· Set the bottom of the recursion:    \n",
    "    if n <= 0:\n",
    "        return\n",
    "\n",
    "'''\n",
    "def custom_recursion(n):\n",
    "    if n == 0:\n",
    "        return\n",
    "    print('*' * n)\n",
    "    custom_recursion(n - 1)\n",
    "    print('#' * n)\n",
    "\n",
    "n = int(input())\n",
    "custom_recursion(n)\n",
    "\n",
    " "
   ]
  },
  {
   "cell_type": "code",
   "execution_count": null,
   "metadata": {},
   "outputs": [],
   "source": []
  }
 ],
 "metadata": {
  "interpreter": {
   "hash": "72f905a1bbd07dc295e964c0246fea79da9263e854d6ece130d260b8e4a73f49"
  },
  "kernelspec": {
   "display_name": "Python 3.10.1 64-bit",
   "language": "python",
   "name": "python3"
  },
  "language_info": {
   "codemirror_mode": {
    "name": "ipython",
    "version": 3
   },
   "file_extension": ".py",
   "mimetype": "text/x-python",
   "name": "python",
   "nbconvert_exporter": "python",
   "pygments_lexer": "ipython3",
   "version": "3.10.1"
  },
  "orig_nbformat": 4
 },
 "nbformat": 4,
 "nbformat_minor": 2
}
