{
 "cells": [
  {
   "cell_type": "code",
   "execution_count": 4,
   "metadata": {},
   "outputs": [
    {
     "name": "stdout",
     "output_type": "stream",
     "text": [
      "User input:  [1, 2, 3, 4]\n",
      "Result:  10\n"
     ]
    }
   ],
   "source": [
    "'''\n",
    "Output\n",
    "\n",
    "10\n",
    "\n",
    "1. Recursive Array Sum\n",
    "Write a program that finds the sum of all elements in an integer array. Use recursion.\n",
    "Note: In practice, this recursion should not be used here (instead use an iterative solution), this is just an exercise.\n",
    "\n",
    "Examples\n",
    "\n",
    "Input               Output\n",
    "1 2 3 4             10\n",
    "\n",
    "Input               Output\n",
    "-1 0 1              0\n",
    " \n",
    "\n",
    "Hints\n",
    "\n",
    "Write a recursive method. It will take as arguments the input array and an index.\n",
    "    . The method should return the current element + the sum of all next elements (obtained by recursively calling it):\n",
    "\n",
    "                def calc_sum(numbers, idx):\n",
    "                    return numbers[idx] + calc_sum(numbers, idx + 1)\n",
    "\n",
    ". The recursion should stop when there are no more elements in the array:\n",
    "\n",
    "\n",
    "'''\n",
    "\n",
    "\n",
    "def array_sum(nums, idx):\n",
    "    if idx == len(nums)-1:\n",
    "        return nums[idx]\n",
    "    \n",
    "    return nums[idx] + array_sum(nums,  idx + 1)\n",
    "\n",
    "\n",
    "nums = [int(x) for x in input().split()]\n",
    "print('User input: ', nums)\n",
    "print('Result: ',array_sum( nums, 0))"
   ]
  },
  {
   "cell_type": "code",
   "execution_count": null,
   "metadata": {},
   "outputs": [],
   "source": []
  }
 ],
 "metadata": {
  "interpreter": {
   "hash": "72f905a1bbd07dc295e964c0246fea79da9263e854d6ece130d260b8e4a73f49"
  },
  "kernelspec": {
   "display_name": "Python 3.10.1 64-bit",
   "language": "python",
   "name": "python3"
  },
  "language_info": {
   "codemirror_mode": {
    "name": "ipython",
    "version": 3
   },
   "file_extension": ".py",
   "mimetype": "text/x-python",
   "name": "python",
   "nbconvert_exporter": "python",
   "pygments_lexer": "ipython3",
   "version": "3.10.1"
  },
  "orig_nbformat": 4
 },
 "nbformat": 4,
 "nbformat_minor": 2
}
