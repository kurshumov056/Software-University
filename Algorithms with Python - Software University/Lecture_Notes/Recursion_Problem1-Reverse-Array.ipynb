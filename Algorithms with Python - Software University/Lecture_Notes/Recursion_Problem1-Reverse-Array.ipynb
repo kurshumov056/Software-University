{
 "cells": [
  {
   "cell_type": "code",
   "execution_count": null,
   "metadata": {},
   "outputs": [
    {
     "data": {
      "text/plain": [
       "'54321'"
      ]
     },
     "execution_count": 24,
     "metadata": {},
     "output_type": "execute_result"
    }
   ],
   "source": [
    "\"\"\"  \n",
    "                    1. Reverse Array\n",
    "\n",
    "\n",
    "Write a program that reverses and prints an array. Use recursion\n",
    "\n",
    "\"\"\"\n",
    "\n",
    "\n",
    "def reverse_array(input_array, idx):\n",
    "    \n",
    "\n",
    "    if idx <= 0:\n",
    "        return input_array[idx]\n",
    "    else:\n",
    "\n",
    "        return input_array[idx] + reverse_array(input_array, idx - 1)\n",
    " \n",
    "\n",
    "\n",
    "reverse_array('12345', 4)"
   ]
  }
 ],
 "metadata": {
  "interpreter": {
   "hash": "72f905a1bbd07dc295e964c0246fea79da9263e854d6ece130d260b8e4a73f49"
  },
  "kernelspec": {
   "display_name": "Python 3.10.1 64-bit",
   "language": "python",
   "name": "python3"
  },
  "language_info": {
   "codemirror_mode": {
    "name": "ipython",
    "version": 3
   },
   "file_extension": ".py",
   "mimetype": "text/x-python",
   "name": "python",
   "nbconvert_exporter": "python",
   "pygments_lexer": "ipython3",
   "version": "3.10.1"
  },
  "orig_nbformat": 4
 },
 "nbformat": 4,
 "nbformat_minor": 2
}
