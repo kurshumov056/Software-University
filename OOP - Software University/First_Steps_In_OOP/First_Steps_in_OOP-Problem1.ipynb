{
 "cells": [
  {
   "cell_type": "code",
   "execution_count": 22,
   "metadata": {},
   "outputs": [
    {
     "name": "stdout",
     "output_type": "stream",
     "text": [
      "Walmart\n",
      "Item count: 3\n"
     ]
    }
   ],
   "source": [
    "class Shop:\n",
    "    def __init__(self, name, items):\n",
    "        self.name = name  \n",
    "        self.items = items\n",
    "\n",
    "    def get_items_count(self):\n",
    "        return f\"Item count: {len(self.items)}\"\n",
    "        \n",
    "\n",
    "example = Shop('Walmart', ['apples', 'bananas', 'Blankets'])\n",
    "\n",
    "print(example.name)\n",
    "print(example.get_items_count())\n"
   ]
  },
  {
   "cell_type": "code",
   "execution_count": null,
   "metadata": {},
   "outputs": [],
   "source": []
  }
 ],
 "metadata": {
  "interpreter": {
   "hash": "72f905a1bbd07dc295e964c0246fea79da9263e854d6ece130d260b8e4a73f49"
  },
  "kernelspec": {
   "display_name": "Python 3.10.1 64-bit",
   "language": "python",
   "name": "python3"
  },
  "language_info": {
   "codemirror_mode": {
    "name": "ipython",
    "version": 3
   },
   "file_extension": ".py",
   "mimetype": "text/x-python",
   "name": "python",
   "nbconvert_exporter": "python",
   "pygments_lexer": "ipython3",
   "version": "3.10.1"
  },
  "orig_nbformat": 4
 },
 "nbformat": 4,
 "nbformat_minor": 2
}
