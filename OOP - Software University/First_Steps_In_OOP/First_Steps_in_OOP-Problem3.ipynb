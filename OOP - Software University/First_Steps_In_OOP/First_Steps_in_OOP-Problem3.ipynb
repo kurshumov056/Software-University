{
 "cells": [
  {
   "cell_type": "code",
   "execution_count": 18,
   "metadata": {},
   "outputs": [
    {
     "name": "stdout",
     "output_type": "stream",
     "text": [
      "First name: John \n",
      "Last Name: Smith\n",
      "New salary after raise: 1500\n",
      "Total Annual Salary: 18000\n"
     ]
    }
   ],
   "source": [
    "class Employee:\n",
    "    def __init__(self, id, first_name, last_name, salary):\n",
    "        self.id = id\n",
    "        self.first_name = first_name\n",
    "        self.last_name = last_name\n",
    "        self.salary = salary \n",
    "    \n",
    "    def get_full_name(self):\n",
    "        return f\"First name: {self.first_name} \\nLast Name: {self.last_name}\"\n",
    "\n",
    "    def raise_salary(self, promotion):\n",
    "        self.promotion = promotion \n",
    "        self.salary += promotion\n",
    "        return f\"New salary after raise: {self.salary}\"\n",
    "\n",
    "    def get_annual_salary(self):\n",
    "        return f\"Total Annual Salary: {self.salary * 12}\"\n",
    "        \n",
    "emolpoyee1 = Employee(\"1222\", \"John\", \"Smith\", 1000 )\n",
    "print(emolpoyee1.get_full_name())\n",
    "print(emolpoyee1.raise_salary(500))\n",
    "print(emolpoyee1.get_annual_salary())\n"
   ]
  },
  {
   "cell_type": "code",
   "execution_count": null,
   "metadata": {},
   "outputs": [],
   "source": []
  }
 ],
 "metadata": {
  "interpreter": {
   "hash": "72f905a1bbd07dc295e964c0246fea79da9263e854d6ece130d260b8e4a73f49"
  },
  "kernelspec": {
   "display_name": "Python 3.10.1 64-bit",
   "language": "python",
   "name": "python3"
  },
  "language_info": {
   "codemirror_mode": {
    "name": "ipython",
    "version": 3
   },
   "file_extension": ".py",
   "mimetype": "text/x-python",
   "name": "python",
   "nbconvert_exporter": "python",
   "pygments_lexer": "ipython3",
   "version": "3.10.1"
  },
  "orig_nbformat": 4
 },
 "nbformat": 4,
 "nbformat_minor": 2
}
