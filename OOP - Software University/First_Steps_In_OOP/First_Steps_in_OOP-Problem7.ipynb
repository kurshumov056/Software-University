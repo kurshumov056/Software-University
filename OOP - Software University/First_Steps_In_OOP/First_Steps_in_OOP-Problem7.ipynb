{
 "cells": [
  {
   "cell_type": "code",
   "execution_count": 23,
   "metadata": {},
   "outputs": [
    {
     "name": "stdout",
     "output_type": "stream",
     "text": [
      "John does not know Python\n",
      "John already knows Java\n",
      "John needs 50 more points\n",
      "John has added 50 points from the Java: zero to hero\n",
      "John switched from Java to Python. Remaining skill points are: 0\n",
      "John already knows Python\n",
      "John has added 84 points from the Python Masterclass\n"
     ]
    }
   ],
   "source": [
    "class Programmer:\n",
    "\n",
    "    def __init__(self, name, language, skills):\n",
    "        self.name = name\n",
    "        self.language = language\n",
    "        self.skills = skills\n",
    "\n",
    "    def watch_course(self, course_name, language, skills_earned):\n",
    "        self.course_name = course_name\n",
    "        self.skills_earned = skills_earned\n",
    "         \n",
    "        if language == self.language:\n",
    "            self.skills += self.skills_earned\n",
    "            return f\"{self.name} has added {self.skills_earned} points from the {self.course_name}\"\n",
    "\n",
    "        else: \n",
    "            return f\"{self.name} does not know {language}\"\n",
    "    def change_language(self, new_language, skills_needed):\n",
    "        self.new_language = new_language\n",
    "        self.skills_needed = int(skills_needed)\n",
    "\n",
    "        if self.new_language != self.language:\n",
    "            if int(self.skills) >= int(self.skills_needed):\n",
    "                self.skills -= self.skills_needed\n",
    "                print(f\"{self.name} switched from {self.language} to {self.new_language}. Remaining skill points are: {self.skills}\")\n",
    "                self.language = self.new_language\n",
    "                 \n",
    "\n",
    "        if self.new_language == self.language:\n",
    "            return f\"{self.name} already knows {self.language}\"\n",
    "\n",
    "        if self.new_language != self.language:\n",
    "            if int(self.skills) < int(self.skills_needed):\n",
    "                return f\"{self.name} needs {abs(int(self.skills) - int(self.skills_needed))} more points\"\n",
    "\n",
    "programmer = Programmer(\"John\", \"Java\", 50)\n",
    "print(programmer.watch_course(\"Python Masterclass\", \"Python\", 84))\n",
    "print(programmer.change_language(\"Java\", 30))\n",
    "print(programmer.change_language(\"Python\", 100))\n",
    "print(programmer.watch_course(\"Java: zero to hero\", \"Java\", 50))\n",
    "print(programmer.change_language(\"Python\", 100))\n",
    "print(programmer.watch_course(\"Python Masterclass\", \"Python\", 84))\n",
    "\n",
    "\n",
    " "
   ]
  },
  {
   "cell_type": "code",
   "execution_count": null,
   "metadata": {},
   "outputs": [],
   "source": [
    ", 30"
   ]
  }
 ],
 "metadata": {
  "interpreter": {
   "hash": "72f905a1bbd07dc295e964c0246fea79da9263e854d6ece130d260b8e4a73f49"
  },
  "kernelspec": {
   "display_name": "Python 3.10.1 64-bit",
   "language": "python",
   "name": "python3"
  },
  "language_info": {
   "codemirror_mode": {
    "name": "ipython",
    "version": 3
   },
   "file_extension": ".py",
   "mimetype": "text/x-python",
   "name": "python",
   "nbconvert_exporter": "python",
   "pygments_lexer": "ipython3",
   "version": "3.10.1"
  },
  "orig_nbformat": 4
 },
 "nbformat": 4,
 "nbformat_minor": 2
}
