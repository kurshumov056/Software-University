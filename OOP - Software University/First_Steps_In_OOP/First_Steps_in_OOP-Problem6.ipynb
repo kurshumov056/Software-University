{
 "cells": [
  {
   "cell_type": "code",
   "execution_count": 5,
   "metadata": {},
   "outputs": [
    {
     "name": "stdout",
     "output_type": "stream",
     "text": [
      "Peter Johnson is playing Counter Strike\n",
      "Peter Johnson has total hours: 10\n",
      "'Assasin's Creed' game has been added. New List: ['Counter Strike', 'DOTA', 'LOL', \"Assasin's Creed\"]\n"
     ]
    }
   ],
   "source": [
    "class SteamUser:\n",
    "\n",
    "    def __init__(self, username, games, player_hours = 0):\n",
    "        self.username = username\n",
    "        self.games = games\n",
    "        self.player_hours = player_hours\n",
    "        self.lst = list(self.games)\n",
    "        self.total_hrs = 0\n",
    "\n",
    "\n",
    "    def play(self, game, hours):\n",
    "        self.game = game\n",
    "        self.hours = hours\n",
    "\n",
    "        if self.game not in self.lst:\n",
    "            return f\"{self.game} is not in library\"\n",
    "        else:\n",
    "            self.total_hrs += self.hours\n",
    "            return f\"{self.username} is playing {self.game}\"\n",
    "\n",
    "    def buy_game(self, game):\n",
    "        if game not in self.lst:\n",
    "            self.lst.append(game)\n",
    "            return f\"'{game}' game has been added. New List: {self.lst}\"\n",
    "        else:\n",
    "            return f\"{game} is already in your library\"\n",
    "\n",
    "    def status(self):\n",
    "        return f\"{self.username} has total hours: {self.total_hrs}\"\n",
    "\n",
    "user = SteamUser('Peter Johnson', ['Counter Strike', 'DOTA', 'LOL'], 0)\n",
    "print(user.play(\"Counter Strike\", 10))\n",
    "print(user.status())\n",
    "print(user.buy_game(\"Assasin's Creed\"))"
   ]
  },
  {
   "cell_type": "code",
   "execution_count": null,
   "metadata": {},
   "outputs": [],
   "source": []
  }
 ],
 "metadata": {
  "interpreter": {
   "hash": "72f905a1bbd07dc295e964c0246fea79da9263e854d6ece130d260b8e4a73f49"
  },
  "kernelspec": {
   "display_name": "Python 3.10.1 64-bit",
   "language": "python",
   "name": "python3"
  },
  "language_info": {
   "codemirror_mode": {
    "name": "ipython",
    "version": 3
   },
   "file_extension": ".py",
   "mimetype": "text/x-python",
   "name": "python",
   "nbconvert_exporter": "python",
   "pygments_lexer": "ipython3",
   "version": "3.10.1"
  },
  "orig_nbformat": 4
 },
 "nbformat": 4,
 "nbformat_minor": 2
}
