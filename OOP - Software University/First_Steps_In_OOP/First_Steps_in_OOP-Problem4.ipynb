{
 "cells": [
  {
   "cell_type": "code",
   "execution_count": 2,
   "metadata": {},
   "outputs": [
    {
     "name": "stdout",
     "output_type": "stream",
     "text": [
      "Status:\n",
      "Free space: 50\n",
      "Status:\n",
      "Free space: 10\n"
     ]
    }
   ],
   "source": [
    "class Cup:\n",
    "\n",
    "    def __init__(self, size, quantity):\n",
    "        self.size = size\n",
    "        self.quantity = quantity \n",
    "\n",
    "    def fill(self, increase):\n",
    "        self.increase = increase \n",
    "\n",
    "        self.quantity += self.increase\n",
    "        return f\"New quantity post increase: {self.quantity}\"\n",
    "\n",
    "    def status(self):\n",
    "        return f\"Status:\\nFree space: {abs(self.quantity - self.size)}\"\n",
    "\n",
    "cup = Cup(100, 50)\n",
    "print(cup.status())\n",
    "cup.fill(40)\n",
    "cup.fill(20)\n",
    "print(cup.status())"
   ]
  },
  {
   "cell_type": "code",
   "execution_count": null,
   "metadata": {},
   "outputs": [],
   "source": []
  }
 ],
 "metadata": {
  "interpreter": {
   "hash": "72f905a1bbd07dc295e964c0246fea79da9263e854d6ece130d260b8e4a73f49"
  },
  "kernelspec": {
   "display_name": "Python 3.10.1 64-bit",
   "language": "python",
   "name": "python3"
  },
  "language_info": {
   "codemirror_mode": {
    "name": "ipython",
    "version": 3
   },
   "file_extension": ".py",
   "mimetype": "text/x-python",
   "name": "python",
   "nbconvert_exporter": "python",
   "pygments_lexer": "ipython3",
   "version": "3.10.1"
  },
  "orig_nbformat": 4
 },
 "nbformat": 4,
 "nbformat_minor": 2
}
