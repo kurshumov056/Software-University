{
 "cells": [
  {
   "cell_type": "code",
   "execution_count": 44,
   "metadata": {},
   "outputs": [
    {
     "name": "stdout",
     "output_type": "stream",
     "text": [
      "Lily is not happy\n",
      "Lily is not happy\n",
      "Lily is Happy\n"
     ]
    }
   ],
   "source": [
    "class Flower:\n",
    "\n",
    "    def __init__(self, name, water_requirements ):\n",
    "        self.name = name\n",
    "        self.water_requirements = water_requirements\n",
    "       \n",
    "        self.is_happy = False\n",
    "          \n",
    "\n",
    "    def water(self, amount):\n",
    "        self.amount = amount\n",
    "        if self.amount >= self.water_requirements:\n",
    "            self.is_happy = True \n",
    " \n",
    "\n",
    "    def status(self):\n",
    "        if self.is_happy:\n",
    "            return f\"{self.name} is Happy\"\n",
    "\n",
    "        else:\n",
    "            return f\"{self.name} is not happy\"\n",
    "\n",
    "flower = Flower(\"Lily\", 100)\n",
    "\n",
    "flower.water(50)\n",
    "print(flower.status())\n",
    "\n",
    "flower.water(60)\n",
    "print(flower.status())\n",
    "\n",
    "flower.water(120)\n",
    "print(flower.status())\n",
    " \n",
    "\n"
   ]
  },
  {
   "cell_type": "code",
   "execution_count": null,
   "metadata": {},
   "outputs": [],
   "source": []
  }
 ],
 "metadata": {
  "interpreter": {
   "hash": "72f905a1bbd07dc295e964c0246fea79da9263e854d6ece130d260b8e4a73f49"
  },
  "kernelspec": {
   "display_name": "Python 3.10.1 64-bit",
   "language": "python",
   "name": "python3"
  },
  "language_info": {
   "codemirror_mode": {
    "name": "ipython",
    "version": 3
   },
   "file_extension": ".py",
   "mimetype": "text/x-python",
   "name": "python",
   "nbconvert_exporter": "python",
   "pygments_lexer": "ipython3",
   "version": "3.10.1"
  },
  "orig_nbformat": 4
 },
 "nbformat": 4,
 "nbformat_minor": 2
}
