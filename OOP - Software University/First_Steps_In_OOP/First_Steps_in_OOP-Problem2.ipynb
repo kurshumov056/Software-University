{
 "cells": [
  {
   "cell_type": "code",
   "execution_count": 14,
   "metadata": {},
   "outputs": [
    {
     "data": {
      "text/plain": [
       "' New health after healing: 100'"
      ]
     },
     "execution_count": 14,
     "metadata": {},
     "output_type": "execute_result"
    }
   ],
   "source": [
    "class Hero:\n",
    "    def __init__(self, name, health):\n",
    "        self.name = name\n",
    "        self.health = health \n",
    "\n",
    "    def defend(self,  damage):\n",
    "        self.damage = damage\n",
    "\n",
    "        if self.health - damage > 0:\n",
    "            self.health -= damage\n",
    "            return f\"Damage taken, new health: {self.health}\"\n",
    "\n",
    "        if self.health - damage <= 0:\n",
    "            return f\"{self.name} was defeated.\"\n",
    "    def heal(self, mana):\n",
    "        self.mana = mana\n",
    "\n",
    "        self.health += self.mana\n",
    "\n",
    "        return f\" New health after healing: {self.health}\"\n",
    "hero1 = Hero('Super-Man', 100)\n",
    " \n",
    "hero1.defend(99)\n",
    "hero1.heal(99)\n",
    "\n",
    "    "
   ]
  },
  {
   "cell_type": "code",
   "execution_count": null,
   "metadata": {},
   "outputs": [],
   "source": []
  }
 ],
 "metadata": {
  "interpreter": {
   "hash": "72f905a1bbd07dc295e964c0246fea79da9263e854d6ece130d260b8e4a73f49"
  },
  "kernelspec": {
   "display_name": "Python 3.10.1 64-bit",
   "language": "python",
   "name": "python3"
  },
  "language_info": {
   "codemirror_mode": {
    "name": "ipython",
    "version": 3
   },
   "file_extension": ".py",
   "mimetype": "text/x-python",
   "name": "python",
   "nbconvert_exporter": "python",
   "pygments_lexer": "ipython3",
   "version": "3.10.1"
  },
  "orig_nbformat": 4
 },
 "nbformat": 4,
 "nbformat_minor": 2
}
