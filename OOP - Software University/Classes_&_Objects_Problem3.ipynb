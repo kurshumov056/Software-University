{
 "cells": [
  {
   "cell_type": "code",
   "execution_count": 7,
   "metadata": {},
   "outputs": [
    {
     "name": "stdout",
     "output_type": "stream",
     "text": [
      "First Use Case:\n",
      "\n",
      "New balance: 1500\n",
      "New balance: 0\n",
      "User George with account 1234 has 0 balance\n",
      "\n",
      "\n",
      "\n",
      "Second Use Case:\n",
      "\n",
      "Amount exceeded balance\n",
      "New balance: 1000\n",
      "New balance: 500\n",
      "User Peter with account 5411256 has 500 balance\n"
     ]
    }
   ],
   "source": [
    "\n",
    "\n",
    "\n",
    "\n",
    "class Account:\n",
    "\n",
    "    def __init__(self, id, name, balance=0):\n",
    "        self.id = id\n",
    "        self.name = name\n",
    "        self.balance = balance\n",
    "\n",
    "    def credit(self, amount):\n",
    "        self.balance += amount\n",
    "        return f\"New balance: {self.balance}\"\n",
    "\n",
    "    def debit(self, amount):\n",
    "\n",
    "        if amount <= self.balance:\n",
    "            self.balance -= amount\n",
    "            return f\"New balance: {self.balance}\"\n",
    "        else:\n",
    "            return f\"Amount exceeded balance\"\n",
    "\n",
    "    def info(self):\n",
    "        return f\"User {self.name} with account {self.id} has {self.balance} balance\"\n",
    "\n",
    "print('First Use Case:\\n')\n",
    "account = Account(1234, \"George\", 1000)\n",
    "print(account.credit(500))\n",
    "print(account.debit(1500))\n",
    "print(account.info())\n",
    "\n",
    "print('\\n\\n\\nSecond Use Case:\\n')\n",
    "\n",
    "account = Account(5411256, \"Peter\")\n",
    "print(account.debit(500))\n",
    "print(account.credit(1000))\n",
    "print(account.debit(500))\n",
    "print(account.info())"
   ]
  },
  {
   "cell_type": "code",
   "execution_count": null,
   "metadata": {},
   "outputs": [],
   "source": []
  }
 ],
 "metadata": {
  "kernelspec": {
   "display_name": "Python 3",
   "language": "python",
   "name": "python3"
  },
  "language_info": {
   "codemirror_mode": {
    "name": "ipython",
    "version": 3
   },
   "file_extension": ".py",
   "mimetype": "text/x-python",
   "name": "python",
   "nbconvert_exporter": "python",
   "pygments_lexer": "ipython3",
   "version": "3.10.1"
  }
 },
 "nbformat": 4,
 "nbformat_minor": 2
}
