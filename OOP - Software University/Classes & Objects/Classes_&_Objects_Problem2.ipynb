{
 "cells": [
  {
   "cell_type": "code",
   "execution_count": 12,
   "metadata": {},
   "outputs": [
    {
     "name": "stdout",
     "output_type": "stream",
     "text": [
      "9:31:00\n",
      "11:00:00\n"
     ]
    }
   ],
   "source": [
    "\n",
    "\n",
    "\n",
    "class Time:\n",
    "\n",
    "    max_hours = 23\n",
    "    max_minutes = 59 \n",
    "    max_seconds = 59 \n",
    "\n",
    "\n",
    "    def __init__(self, hours, minutes, seconds):\n",
    "\n",
    "        self.hours = hours\n",
    "        self.minutes = minutes\n",
    "        self.seconds = seconds \n",
    "\n",
    "    def set_time(self, hours, minutes, seconds):\n",
    "        self.hours = hours\n",
    "        self.minutes = minutes\n",
    "        self.seconds = seconds\n",
    "    \n",
    "    def get_time(self):\n",
    "        return f\"{self_hours}:{self.minuntes}:{self.seconds}\"\n",
    "\n",
    "    def next_second(self):\n",
    "\n",
    "        self.seconds += 1\n",
    "\n",
    "        if self.seconds > Time.max_seconds:\n",
    "            self.minutes += 1\n",
    "            self.seconds = '00'\n",
    "\n",
    "            if self.minutes > Time.max_minutes:\n",
    "                self.minutes = '00'\n",
    "                self.hours += 1\n",
    "\n",
    "                if self.hours > Time.max_hours:\n",
    "                    self.hours = '00'\n",
    "\n",
    "        return f\"{self.hours}:{self.minutes}:{self.seconds}\"\n",
    "\n",
    "time = Time(9, 30, 59)\n",
    "print(time.next_second())\n",
    "\n",
    "\n",
    "time = Time(10, 59, 59)\n",
    "print(time.next_second())\n"
   ]
  },
  {
   "cell_type": "code",
   "execution_count": null,
   "metadata": {},
   "outputs": [],
   "source": []
  }
 ],
 "metadata": {
  "kernelspec": {
   "display_name": "Python 3",
   "language": "python",
   "name": "python3"
  },
  "language_info": {
   "codemirror_mode": {
    "name": "ipython",
    "version": 3
   },
   "file_extension": ".py",
   "mimetype": "text/x-python",
   "name": "python",
   "nbconvert_exporter": "python",
   "pygments_lexer": "ipython3",
   "version": "3.10.1"
  }
 },
 "nbformat": 4,
 "nbformat_minor": 2
}
