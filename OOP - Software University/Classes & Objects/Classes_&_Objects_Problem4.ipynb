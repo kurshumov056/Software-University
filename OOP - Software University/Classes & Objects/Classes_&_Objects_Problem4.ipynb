{
 "cells": [
  {
   "cell_type": "code",
   "execution_count": null,
   "metadata": {},
   "outputs": [],
   "source": []
  },
  {
   "cell_type": "code",
   "execution_count": 34,
   "metadata": {},
   "outputs": [
    {
     "name": "stdout",
     "output_type": "stream",
     "text": [
      "We dont use bacon in Margarita\n",
      "Please check again the desired quantity of tomatoes\n",
      " You've ordered a pizza Margarita prepared with {'cheese': 0, 'tomatoes': 1, 'mozzarella': 1} and the price will be 10.000\n",
      "Pizza Margarita already prepared, and we can't make any changes!\n"
     ]
    }
   ],
   "source": [
    "\n",
    "\n",
    "class PizzaDelivery:\n",
    "\n",
    "    def __init__(self, name, price: float, ingredients):\n",
    "        self.ordered = False\n",
    "        self.name = name \n",
    "        self.price = price\n",
    "        self.ingredients = ingredients\n",
    "\n",
    "    def add_extra(self, ingredient, quantity, price_per_quantity: float):\n",
    "        stuff_to_add = {}\n",
    "\n",
    "\n",
    "        if self.ordered == False:\n",
    "\n",
    "            for key, value in self.ingredients.items():\n",
    "                if key == ingredient:\n",
    "                    self.ingredients[key] += quantity\n",
    "                    self.price += quantity * price_per_quantity\n",
    "                    return f\"{quantity} of {ingredient} was added\"\n",
    "\n",
    "                \n",
    "                else:\n",
    "                    stuff_to_add.update({ingredient: quantity})\n",
    "                    self.price += quantity * price_per_quantity\n",
    "\n",
    "                    \n",
    "            self.ingredients.update(stuff_to_add)\n",
    "            stuff_to_add = {}\n",
    "        else:\n",
    "            return f\"Pizza {self.name} already prepared, and we can't make any changes!\"\n",
    "\n",
    "    def remove_ingredient(self, ingredient, quantity, price_per_quantity: float):\n",
    "\n",
    "        if ingredient in self.ingredients.keys():\n",
    "            for key, value in self.ingredients.items():\n",
    "\n",
    "                if ingredient == key:\n",
    "                    if quantity <= value:\n",
    "                        self.ingredients[key] -=  quantity\n",
    "                        self.price -= quantity * price_per_quantity\n",
    "                        return f\"{quantity} of {ingredient} was removed\" \n",
    "                    else:\n",
    "                        return f\"Please check again the desired quantity of {ingredient}\"\n",
    "        else:\n",
    "            return f\"We dont use {ingredient} in {self.name}\"\n",
    "            \n",
    "    def make_order(self):\n",
    "        self.ordered = True\n",
    "        \n",
    "        return f\" You've ordered a pizza {self.name} prepared with {self.ingredients} and the price will be {self.price:.3f}\"\n",
    "\n",
    "\n",
    "\n",
    "\n",
    "margarita = PizzaDelivery('Margarita', 11, {'cheese': 2, 'tomatoes': 1})\n",
    "margarita.add_extra('mozzarella', 1, 0.5)\n",
    "margarita.add_extra('cheese', 1, 1)\n",
    "margarita.remove_ingredient('cheese', 1, 1)\n",
    "print(margarita.remove_ingredient('bacon', 1, 2.5))\n",
    "print(margarita.remove_ingredient('tomatoes', 2, 0.5))\n",
    "margarita.remove_ingredient('cheese', 2, 1)\n",
    "print(margarita.make_order())\n",
    "print(margarita.add_extra('cheese', 1, 1))\n",
    " "
   ]
  },
  {
   "cell_type": "code",
   "execution_count": null,
   "metadata": {},
   "outputs": [],
   "source": []
  }
 ],
 "metadata": {
  "kernelspec": {
   "display_name": "Python 3",
   "language": "python",
   "name": "python3"
  },
  "language_info": {
   "codemirror_mode": {
    "name": "ipython",
    "version": 3
   },
   "file_extension": ".py",
   "mimetype": "text/x-python",
   "name": "python",
   "nbconvert_exporter": "python",
   "pygments_lexer": "ipython3",
   "version": "3.10.1"
  }
 },
 "nbformat": 4,
 "nbformat_minor": 2
}
