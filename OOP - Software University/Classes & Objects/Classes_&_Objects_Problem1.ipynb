{
 "cells": [
  {
   "cell_type": "code",
   "execution_count": 1,
   "metadata": {},
   "outputs": [
    {
     "name": "stdout",
     "output_type": "stream",
     "text": [
      "George registered in the clinic Cat\n",
      "George registered in the clinic German Sheppard\n",
      "George registered in the clinic Labarador\n",
      "George registered in the clinic Mouse\n",
      "George registered in the clinic Dogo Argentino\n",
      "Not enough space to registed Snake\n",
      "Current Clinic Record: George has 5 animals and has 0 space left\n",
      "Cat has been unregistered from clinic\n",
      "George registered in the clinic Snake\n",
      "Current Clinic Record: George has 6 animals and has 0 space left\n"
     ]
    }
   ],
   "source": [
    "\n",
    "\n",
    "\n",
    "\n",
    "\n",
    "\n",
    "\n",
    "class Vet:\n",
    "\n",
    "    animals = []\n",
    "    space = 5\n",
    "\n",
    "\n",
    "    def __init__(self, name):\n",
    "        self.name = name\n",
    "        self.animals = []\n",
    "        \n",
    "\n",
    "    def register_animal(self, animal_name):\n",
    "        if animal_name not in self.animals and self.space >0:\n",
    "            self.animals.append(animal_name)\n",
    "            self.space -= 1\n",
    "            return f\"{self.name} registered in the clinic {animal_name}\"\n",
    "        else:\n",
    "            return f\"Not enough space to registed {animal_name}\"\n",
    "    def unregister_animal(self, animal_name):\n",
    "        for i in range(0, len(self.animals)):\n",
    "            if animal_name == self.animals[i]:\n",
    "                self.animals[i] = 'V'\n",
    "                self.space += 1\n",
    "                return f\"{animal_name} has been unregistered from clinic\"\n",
    "\n",
    "\n",
    "        animals = [x for x in self.animals if x != 'V']\n",
    "        self.animals = animals\n",
    "\n",
    "    def info(self):\n",
    "        return f\"Current Clinic Record: {self.name} has {len(self.animals)} animals and has {self.space} space left\"\n",
    "\n",
    "\n",
    "\n",
    "peter = Vet(\"George\")\n",
    "\n",
    "print(peter.register_animal(\"Cat\"))\n",
    "print(peter.register_animal(\"German Sheppard\"))\n",
    "print(peter.register_animal(\"Labarador\"))\n",
    "print(peter.register_animal(\"Mouse\"))\n",
    "print(peter.register_animal(\"Dogo Argentino\"))\n",
    "print(peter.register_animal(\"Snake\"))\n",
    "print(peter.info())\n",
    "print(peter.unregister_animal(\"Cat\"))\n",
    "print(peter.register_animal(\"Snake\"))\n",
    "print(peter.info())"
   ]
  },
  {
   "cell_type": "code",
   "execution_count": null,
   "metadata": {},
   "outputs": [],
   "source": []
  }
 ],
 "metadata": {
  "kernelspec": {
   "display_name": "Python 3",
   "language": "python",
   "name": "python3"
  },
  "language_info": {
   "codemirror_mode": {
    "name": "ipython",
    "version": 3
   },
   "file_extension": ".py",
   "mimetype": "text/x-python",
   "name": "python",
   "nbconvert_exporter": "python",
   "pygments_lexer": "ipython3",
   "version": "3.10.1"
  }
 },
 "nbformat": 4,
 "nbformat_minor": 2
}
