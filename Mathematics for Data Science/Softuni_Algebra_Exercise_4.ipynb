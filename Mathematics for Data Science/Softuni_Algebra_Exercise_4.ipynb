{
 "cells": [
  {
   "cell_type": "code",
   "execution_count": null,
   "metadata": {},
   "outputs": [],
   "source": [
    "%matplotlib inline"
   ]
  },
  {
   "cell_type": "markdown",
   "metadata": {},
   "source": [
    "### Problem 4. Run-length Encoding\n",
    "One application of algebra and basic math can be **compression**. This is a way to save data in less space than it originally takes. The most basic form of compression is called [run-length encoding](https://en.wikipedia.org/wiki/Run-length_encoding).\n",
    "\n",
    "Write a function that encodes a given text. Write another one that decodes.\n",
    "\n",
    "We can see that RLE is not very useful in the general case. But it can be extremely useful if we have very few symbols. An example of this can be DNA and protein sequences. DNA code, for example, has only 4 characters.\n",
    "\n",
    "Test your encoding and decoding functions on a DNA sequence (you can look up some on the Internet). Measure how much your data is compressed relative to the original."
   ]
  },
  {
   "cell_type": "code",
   "execution_count": 48,
   "metadata": {},
   "outputs": [
    {
     "data": {
      "text/plain": [
       "'AABCCCDEEEE'"
      ]
     },
     "execution_count": 48,
     "metadata": {},
     "output_type": "execute_result"
    }
   ],
   "source": [
    "def encode(text):\n",
    "    \"\"\"\n",
    "    Returns the run-length encoded version of the text\n",
    "    (numbers after symbols, length = 1 is skipped)\n",
    "    \"\"\" \n",
    "    dct = {}\n",
    "    for char in text:\n",
    "        if char not in dct.keys():\n",
    "            dct[char]=1\n",
    "        else:\n",
    "            dct[char]+= 1\n",
    "    \n",
    "    result = ''\n",
    "    for key,value in dct.items():\n",
    "        if value > 1:\n",
    "            result += str(key)+str(value)\n",
    "        else:\n",
    "            result+= str(key)\n",
    "\n",
    "    return result\n",
    "        \n",
    "\n",
    "\n",
    "encode(\"AABCCCDEEEE\") # == \"A2BC3DE4\"\n",
    "def decode(text):  \n",
    "    \"\"\"\n",
    "    Decodes the text using run-length encoding\n",
    "    \"\"\"\n",
    "    result = []\n",
    "    for char in text:\n",
    "        if char.isdigit():\n",
    "            result.append(result[-1] * (int(char) - 1))\n",
    "        else:\n",
    "            result.append(char)\n",
    "    return ''.join(result)\n",
    "\n",
    "decode(\"A2BC3DE4\") # == \"AABCCCDEEEE\""
   ]
  },
  {
   "cell_type": "code",
   "execution_count": 49,
   "metadata": {},
   "outputs": [],
   "source": [
    "# Tests\n",
    "# Test that the functions work on their own\n",
    "assert encode(\"AABCCCDEEEE\") == \"A2BC3DE4\"\n",
    "assert decode(\"A2BC3DE4\") == \"AABCCCDEEEE\"\n",
    "\n",
    "# Test that the functions really invert each other\n",
    "assert decode(encode(\"AABCCCDEEEE\")) == \"AABCCCDEEEE\"\n",
    "assert encode(decode(\"A2BC3DE4\")) == \"A2BC3DE4\""
   ]
  }
 ],
 "metadata": {
  "kernelspec": {
   "display_name": "Python 3 (ipykernel)",
   "language": "python",
   "name": "python3"
  },
  "language_info": {
   "codemirror_mode": {
    "name": "ipython",
    "version": 3
   },
   "file_extension": ".py",
   "mimetype": "text/x-python",
   "name": "python",
   "nbconvert_exporter": "python",
   "pygments_lexer": "ipython3",
   "version": "3.10.1"
  }
 },
 "nbformat": 4,
 "nbformat_minor": 4
}
